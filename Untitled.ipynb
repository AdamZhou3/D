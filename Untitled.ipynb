{
 "cells": [
  {
   "cell_type": "code",
   "execution_count": 1,
   "metadata": {},
   "outputs": [],
   "source": [
    "# DS\n",
    "import pandas as pd \n",
    "import numpy as np\n",
    "import matplotlib.pyplot as plt\n",
    "import seaborn as sns\n",
    "\n",
    "# GDS\n",
    "import geopandas as gpd\n",
    "import contextily as ctx\n",
    "from shapely import wkt\n",
    "\n",
    "# network\n",
    "import networkx as nx\n",
    "import powerlaw\n",
    "\n",
    "from my_utils import *"
   ]
  },
  {
   "cell_type": "code",
   "execution_count": null,
   "metadata": {},
   "outputs": [],
   "source": [
    "from model.GraphSAGE import *\n",
    "import numpy as np\n",
    "import torch\n",
    "import math\n",
    "from sklearn.utils import shuffle"
   ]
  },
  {
   "cell_type": "code",
   "execution_count": 3,
   "metadata": {},
   "outputs": [],
   "source": [
    "df_tf_odRegion = pd.read_csv(f\"result/df_tf_odRegion_{VERSION}.csv\")\n",
    "gdf_zoning = read_csv_to_gdf(f\"result/gdf_zoning_{VERSION}.csv\").to_crs(\"epsg:2263\")\n",
    "df_zonevec = pd.read_csv(f\"result/df_zonevec_{VERSION}.csv\")\n",
    "\n",
    "ids = set(df_zonevec.id.values) & set(df_tf_odRegion.Destiny_ID.unique()) & set(df_tf_odRegion.Origin_ID.unique())\n",
    "dict_mapids = {x:i for i,x in enumerate(ids)}\n",
    "\n",
    "df_edges = pd.read_csv(f\"result/df_edges_{VERSION}.csv\").set_index(['Unnamed: 0', 'Unnamed: 1'])\n",
    "df_zonevec[\"new_id\"] = df_zonevec[\"id\"].apply(lambda x:dict_mapids[x] if x in dict_mapids.keys() else -1)\n",
    "df_zonevecN = df_zonevec[df_zonevec.new_id!=-1].drop(\"id\",axis=1).set_index(\"new_id\").sort_index()\n",
    "\n",
    "edges = [list(i) for i in df_edges.index]\n",
    "nodes = [i for i in range(len(dict_mapids))]\n",
    "\n",
    "from collections import defaultdict\n",
    "\n",
    "edgeid_to_idx = defaultdict(set)\n",
    "adj_lists = defaultdict(set)\n",
    "\n",
    "for i,e in enumerate(edges):\n",
    "    edgeid_to_idx[tuple(e)] = i\n",
    "    u,v =e\n",
    "    adj_lists[u].add(v)"
   ]
  },
  {
   "cell_type": "code",
   "execution_count": 4,
   "metadata": {},
   "outputs": [],
   "source": [
    "nfeats = np.array(df_zonevecN.loc[:,[f\"ZoneVec_{i+1}\" for i in range(20)]])\n",
    "efeats = df_edges.values"
   ]
  },
  {
   "cell_type": "code",
   "execution_count": 7,
   "metadata": {},
   "outputs": [
    {
     "data": {
      "text/plain": [
       "array([180.9375 , -37.98812,   8.34892, -11.32351,  18.13515,  29.673  ,\n",
       "        18.43198,   1.2562 , -11.70833,  -8.01739,   3.58496,   9.88712,\n",
       "        26.60324,  17.60436, -11.11929, -31.10422,  -0.33262, -72.91042,\n",
       "        87.08375,   1.     ])"
      ]
     },
     "execution_count": 7,
     "metadata": {},
     "output_type": "execute_result"
    }
   ],
   "source": [
    "efeats[-1]"
   ]
  },
  {
   "cell_type": "code",
   "execution_count": null,
   "metadata": {},
   "outputs": [],
   "source": []
  }
 ],
 "metadata": {
  "kernelspec": {
   "display_name": "Python 3",
   "language": "python",
   "name": "python3"
  },
  "language_info": {
   "codemirror_mode": {
    "name": "ipython",
    "version": 3
   },
   "file_extension": ".py",
   "mimetype": "text/x-python",
   "name": "python",
   "nbconvert_exporter": "python",
   "pygments_lexer": "ipython3",
   "version": "3.8.5"
  },
  "latex_envs": {
   "LaTeX_envs_menu_present": true,
   "autoclose": false,
   "autocomplete": true,
   "bibliofile": "biblio.bib",
   "cite_by": "apalike",
   "current_citInitial": 1,
   "eqLabelWithNumbers": true,
   "eqNumInitial": 1,
   "hotkeys": {
    "equation": "Ctrl-E",
    "itemize": "Ctrl-I"
   },
   "labels_anchors": false,
   "latex_user_defs": false,
   "report_style_numbering": false,
   "user_envs_cfg": false
  },
  "toc": {
   "base_numbering": 1,
   "nav_menu": {},
   "number_sections": true,
   "sideBar": true,
   "skip_h1_title": false,
   "title_cell": "Table of Contents",
   "title_sidebar": "Contents",
   "toc_cell": false,
   "toc_position": {},
   "toc_section_display": true,
   "toc_window_display": false
  }
 },
 "nbformat": 4,
 "nbformat_minor": 4
}
