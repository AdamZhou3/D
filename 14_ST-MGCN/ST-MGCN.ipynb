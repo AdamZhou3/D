{
 "cells": [
  {
   "cell_type": "code",
   "execution_count": null,
   "metadata": {},
   "outputs": [],
   "source": [
    "# -*- coding: utf-8 -*-\n",
    "import tensorflow as tf\n",
    "import pandas as pd\n",
    "import numpy as np\n",
    "import matplotlib\n",
    "matplotlib.use('TkAgg')\n",
    "from matplotlib import pyplot\n",
    "from sklearn.metrics import mean_squared_error\n",
    "from sklearn.preprocessing import MinMaxScaler\n",
    "import os"
   ]
  },
  {
   "cell_type": "code",
   "execution_count": 6,
   "metadata": {},
   "outputs": [
    {
     "name": "stdout",
     "output_type": "stream",
     "text": [
      "[WinError 2] 系统找不到指定的文件。: './2019-ZJU_SummerResearch-master'\n",
      "E:\\200_CASA\\31_GCN\\11_ST-MGCN\\2019-ZJU_SummerResearch-master\n"
     ]
    }
   ],
   "source": [
    "%cd \"./2019-ZJU_SummerResearch-master\""
   ]
  },
  {
   "cell_type": "code",
   "execution_count": 7,
   "metadata": {},
   "outputs": [],
   "source": [
    "TIME_STEPS = 12\n",
    "BATCH_SIZE = 32\n",
    "HIDDEN_UNITS = 16\n",
    "LEARNING_RATE = 0.001\n",
    "EPOCH = 50\n",
    "NODES = 30\n",
    "KEEP_DROP = 0.2\n",
    "INPUT_SIZE = 30\n",
    "OUTPUT_SIZE = 30\n",
    "REGULARIZAER = 0.003\n",
    "\n",
    "TRAIN_EXAMPLES = 6400\n",
    "VAL_EXAMPLES = 800\n",
    "TEST_EXAMPLES = 1600\n",
    "NUM_LAYER = 3\n",
    "\n",
    "scaler = MinMaxScaler(feature_range=(0, 1))"
   ]
  },
  {
   "cell_type": "code",
   "execution_count": 8,
   "metadata": {},
   "outputs": [],
   "source": [
    "def load_adj():\n",
    "    simi_adj = pd.read_csv('data/weight_simi.csv', header=None, index_col=None)\n",
    "    simi_adj = np.mat(simi_adj)\n",
    "\n",
    "    dis_adj = pd.read_csv('data/weight_dis.csv', header=None, index_col=None)\n",
    "    dis_adj = np.mat(dis_adj)\n",
    "\n",
    "    cont_adj = pd.read_csv('data/weight_adj.csv', header=None, index_col=None)\n",
    "    cont_adj = np.mat(cont_adj)\n",
    "\n",
    "    return simi_adj, dis_adj, cont_adj\n",
    "\n",
    "simi_adj, dis_adj, cont_adj = load_adj()"
   ]
  },
  {
   "cell_type": "code",
   "execution_count": 9,
   "metadata": {},
   "outputs": [],
   "source": [
    "def generate(seq, vol):\n",
    "    X = []\n",
    "    y = []\n",
    "    for i in range(vol):\n",
    "        X.append([seq[i:i + TIME_STEPS]])\n",
    "        y.append([seq[i + TIME_STEPS]])\n",
    "\n",
    "    X = np.array(X, dtype=np.float32)\n",
    "    X = X.reshape(-1, TIME_STEPS, NODES)\n",
    "\n",
    "    Y = np.array(y, dtype=np.float32)\n",
    "    Y = Y.reshape(-1, NODES)\n",
    "    return X, Y\n",
    "\n",
    "def load_data():\n",
    "    # load dataset\n",
    "    dataset = pd.read_csv('data/data.csv', header=None, index_col=None)\n",
    "    values = dataset.values.astype('float32')\n",
    "\n",
    "    # normalize features\n",
    "    scaled = scaler.fit_transform(values)\n",
    "\n",
    "    # split into train and test sets\n",
    "    n_train = int(len(scaled) * 0.7) + 1\n",
    "    n_val = int(len(scaled) * 0.1)\n",
    "    n_test = int(len(scaled) * 0.2)\n",
    "\n",
    "    train = scaled[:n_train, :]\n",
    "    val = scaled[n_train:n_train + n_val, :]\n",
    "    test = scaled[n_train + n_val:, :]\n",
    "\n",
    "    X_train, y_train = generate(train, TRAIN_EXAMPLES)\n",
    "    X_val, y_val = generate(val, VAL_EXAMPLES)\n",
    "    X_test, y_test = generate(test, TEST_EXAMPLES)\n",
    "\n",
    "    return X_train, y_train, X_val, y_val, X_test, y_test\n",
    "\n",
    "X_train, y_train, X_val, y_val, X_test, y_test = load_data()"
   ]
  },
  {
   "cell_type": "code",
   "execution_count": 11,
   "metadata": {},
   "outputs": [
    {
     "name": "stdout",
     "output_type": "stream",
     "text": [
      "X_train:(6400, 12, 30), y_train:(6400, 30)\n",
      "X_val:(800, 12, 30), y_val:(800, 30)\n"
     ]
    }
   ],
   "source": [
    "print ('X_train:{}, y_train:{}'.format(X_train.shape,y_train.shape))\n",
    "print ('X_val:{}, y_val:{}'.format(X_val.shape,y_val.shape))"
   ]
  },
  {
   "cell_type": "code",
   "execution_count": null,
   "metadata": {},
   "outputs": [],
   "source": [
    "tf.compat.v1.reset_default_graph()"
   ]
  },
  {
   "cell_type": "code",
   "execution_count": null,
   "metadata": {},
   "outputs": [],
   "source": []
  },
  {
   "cell_type": "code",
   "execution_count": null,
   "metadata": {},
   "outputs": [],
   "source": []
  }
 ],
 "metadata": {
  "kernelspec": {
   "display_name": "Python 3",
   "language": "python",
   "name": "python3"
  },
  "language_info": {
   "codemirror_mode": {
    "name": "ipython",
    "version": 3
   },
   "file_extension": ".py",
   "mimetype": "text/x-python",
   "name": "python",
   "nbconvert_exporter": "python",
   "pygments_lexer": "ipython3",
   "version": "3.8.5"
  },
  "latex_envs": {
   "LaTeX_envs_menu_present": true,
   "autoclose": false,
   "autocomplete": true,
   "bibliofile": "biblio.bib",
   "cite_by": "apalike",
   "current_citInitial": 1,
   "eqLabelWithNumbers": true,
   "eqNumInitial": 1,
   "hotkeys": {
    "equation": "Ctrl-E",
    "itemize": "Ctrl-I"
   },
   "labels_anchors": false,
   "latex_user_defs": false,
   "report_style_numbering": false,
   "user_envs_cfg": false
  },
  "toc": {
   "base_numbering": 1,
   "nav_menu": {},
   "number_sections": true,
   "sideBar": true,
   "skip_h1_title": false,
   "title_cell": "Table of Contents",
   "title_sidebar": "Contents",
   "toc_cell": false,
   "toc_position": {},
   "toc_section_display": true,
   "toc_window_display": false
  }
 },
 "nbformat": 4,
 "nbformat_minor": 4
}
