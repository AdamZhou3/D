{
 "cells": [
  {
   "cell_type": "markdown",
   "metadata": {},
   "source": [
    "Data Downloading & Preparation"
   ]
  },
  {
   "cell_type": "code",
   "execution_count": 1,
   "metadata": {},
   "outputs": [],
   "source": [
    "import os \n",
    "import pandas as pd\n",
    "import geopandas as gpd\n",
    "from geopandas.tools import sjoin\n",
    "from shapely import wkt\n",
    "import matplotlib.pyplot as plt\n",
    "\n",
    "%load_ext autoreload\n",
    "%autoreload 2\n",
    "from my_utils import *"
   ]
  },
  {
   "cell_type": "code",
   "execution_count": 2,
   "metadata": {},
   "outputs": [
    {
     "name": "stdout",
     "output_type": "stream",
     "text": [
      "v3.0\n"
     ]
    }
   ],
   "source": [
    "pd.options.mode.chained_assignment = None  # default='warn' # disable chain assignment warnings\n",
    "\n",
    "p_data = \"data\"\n",
    "if not os.path.exists(p_data):\n",
    "    os.makedirs(p)\n",
    "    \n",
    "print(VERSION)"
   ]
  },
  {
   "cell_type": "code",
   "execution_count": 3,
   "metadata": {},
   "outputs": [
    {
     "name": "stdout",
     "output_type": "stream",
     "text": [
      "Last updated: 2021-08-03T08:52:44.286976+08:00\n",
      "\n",
      "Python implementation: CPython\n",
      "Python version       : 3.8.5\n",
      "IPython version      : 7.19.0\n",
      "\n",
      "Compiler    : MSC v.1916 64 bit (AMD64)\n",
      "OS          : Windows\n",
      "Release     : 10\n",
      "Machine     : AMD64\n",
      "Processor   : Intel64 Family 6 Model 158 Stepping 10, GenuineIntel\n",
      "CPU cores   : 12\n",
      "Architecture: 64bit\n",
      "\n",
      "geopandas : 0.8.1\n",
      "numpy     : 1.18.5\n",
      "pandas    : 1.1.3\n",
      "matplotlib: 3.3.2\n",
      "shapely   : 1.7.1\n",
      "tqdm      : 4.54.1\n",
      "\n"
     ]
    }
   ],
   "source": [
    "%load_ext watermark\n",
    "%watermark\n",
    "%watermark -iv"
   ]
  },
  {
   "cell_type": "markdown",
   "metadata": {},
   "source": [
    "# Download all data"
   ]
  },
  {
   "cell_type": "code",
   "execution_count": 4,
   "metadata": {},
   "outputs": [],
   "source": [
    "l_zoning = \"https://www1.nyc.gov/assets/planning/download/zip/data-maps/open-data/nycgiszoningfeatures_201602_shp.zip\"\n",
    "l_poi = \"https://data.cityofnewyork.us/api/views/rxuy-2muj/files/d07cdcf1-511d-4dad-bfab-8f531f5a7d45?download=true&filename=PointOfInterest_20170221.zip\"\n",
    "l_yellowtaxi = \"https://s3.amazonaws.com/nyc-tlc/trip+data/yellow_tripdata_2016-02.csv\"\n",
    "l_greentaxi = \"https://s3.amazonaws.com/nyc-tlc/trip+data/green_tripdata_2016-02.csv\""
   ]
  },
  {
   "cell_type": "code",
   "execution_count": 5,
   "metadata": {},
   "outputs": [
    {
     "name": "stdout",
     "output_type": "stream",
     "text": [
      "Found data\\nycgiszoningfeatures_201602_shp.zip locally!\n",
      "unziped data\\nycgiszoningfeatures_201602_shp.zip\n",
      "Found data\\poi.zip locally!\n",
      "unziped data\\poi.zip\n",
      "Found data\\yellow_tripdata_2016-02.csv locally!\n",
      "Found data\\green_tripdata_2016-02.csv locally!\n"
     ]
    }
   ],
   "source": [
    "p_zoningzip = cache_data(l_zoning, p_data)\n",
    "unzip_file(p_zoningzip, os.path.join(p_data,\"nyczoningfeatures\"))\n",
    "\n",
    "p_poizip = cache_data(l_poi, p_data, fn= \"poi.zip\")\n",
    "unzip_file(p_poizip, os.path.join(p_data,\"nycpoi\"))\n",
    "\n",
    "p_yellowtaxi = cache_data(l_yellowtaxi, p_data)\n",
    "\n",
    "p_greentaxi = cache_data(l_greentaxi, p_data)"
   ]
  },
  {
   "cell_type": "markdown",
   "metadata": {},
   "source": [
    "# Examine and transform data"
   ]
  },
  {
   "cell_type": "markdown",
   "metadata": {},
   "source": [
    "## Zoning features data"
   ]
  },
  {
   "cell_type": "code",
   "execution_count": 6,
   "metadata": {},
   "outputs": [],
   "source": [
    "gdf_zoning = gpd.read_file(os.path.join(p_data,\"nyczoningfeatures\",\"nyzd.shp\")).to_crs(\"epsg:4326\")"
   ]
  },
  {
   "cell_type": "code",
   "execution_count": 7,
   "metadata": {},
   "outputs": [],
   "source": [
    "### Merge Zoning Types\n",
    "gdf_zoning[\"zone_c\"] = gdf_zoning.ZONEDIST.apply(lambda x:ZONINGCODE[x])"
   ]
  },
  {
   "cell_type": "markdown",
   "metadata": {},
   "source": [
    "\"CC\":\"Commercial Center Districts\",  \n",
    "\"CM\":\"Commercial Manufacturing Districts\",  \n",
    "\"CR\":\"Commercial Residence Districts\",  \n",
    "\"MR\":\"Manufacturing Residence Districts\",  \n",
    "\"MU\":\"Manufacturing Districts\",  \n",
    "\"PU\":\"Park\",  \n",
    "\"RH\":\"High Density Residence Districts\",  \n",
    "\"RL\":\"Low Density Residence Districts\"  "
   ]
  },
  {
   "cell_type": "code",
   "execution_count": 8,
   "metadata": {},
   "outputs": [
    {
     "data": {
      "text/plain": [
       "zone_c\n",
       "CC    0.030382\n",
       "CM    0.010848\n",
       "CR    0.007752\n",
       "MU    0.141615\n",
       "PU    0.168536\n",
       "RH    0.161985\n",
       "RL    0.478882\n",
       "Name: Shape_Area, dtype: float64"
      ]
     },
     "execution_count": 8,
     "metadata": {},
     "output_type": "execute_result"
    }
   ],
   "source": [
    "# proportion of each land use type in study area\n",
    "gdf_zoning.groupby(\"zone_c\")[\"Shape_Area\"].sum()/gdf_zoning[\"Shape_Area\"].sum()"
   ]
  },
  {
   "cell_type": "code",
   "execution_count": 9,
   "metadata": {},
   "outputs": [],
   "source": [
    "# Merge adjacent similar plots \n",
    "d = {}\n",
    "for i in gdf_zoning.zone_c.unique():\n",
    "    d[i] = pd.DataFrame({\"geometry\":gdf_zoning[gdf_zoning.zone_c==i].unary_union.geoms,\"zone_c\":i})\n",
    "\n",
    "gdf_zoningm = gpd.GeoDataFrame(pd.concat(d,ignore_index=True),crs=\"epsg:4326\",geometry=\"geometry\")"
   ]
  },
  {
   "cell_type": "code",
   "execution_count": 10,
   "metadata": {},
   "outputs": [
    {
     "name": "stdout",
     "output_type": "stream",
     "text": [
      "data shape: (2732, 2)\n"
     ]
    },
    {
     "data": {
      "text/html": [
       "<div>\n",
       "<style scoped>\n",
       "    .dataframe tbody tr th:only-of-type {\n",
       "        vertical-align: middle;\n",
       "    }\n",
       "\n",
       "    .dataframe tbody tr th {\n",
       "        vertical-align: top;\n",
       "    }\n",
       "\n",
       "    .dataframe thead th {\n",
       "        text-align: right;\n",
       "    }\n",
       "</style>\n",
       "<table border=\"1\" class=\"dataframe\">\n",
       "  <thead>\n",
       "    <tr style=\"text-align: right;\">\n",
       "      <th></th>\n",
       "      <th>geometry</th>\n",
       "      <th>zone_c</th>\n",
       "    </tr>\n",
       "  </thead>\n",
       "  <tbody>\n",
       "    <tr>\n",
       "      <th>87</th>\n",
       "      <td>POLYGON ((-73.78129 40.70677, -73.79135 40.704...</td>\n",
       "      <td>RL</td>\n",
       "    </tr>\n",
       "    <tr>\n",
       "      <th>1844</th>\n",
       "      <td>POLYGON ((-74.00254 40.73345, -74.00254 40.733...</td>\n",
       "      <td>PU</td>\n",
       "    </tr>\n",
       "    <tr>\n",
       "      <th>2372</th>\n",
       "      <td>POLYGON ((-73.91161 40.84488, -73.91206 40.844...</td>\n",
       "      <td>PU</td>\n",
       "    </tr>\n",
       "    <tr>\n",
       "      <th>2523</th>\n",
       "      <td>POLYGON ((-73.82649 40.86116, -73.82648 40.861...</td>\n",
       "      <td>PU</td>\n",
       "    </tr>\n",
       "    <tr>\n",
       "      <th>1739</th>\n",
       "      <td>POLYGON ((-73.98560 40.70144, -73.98563 40.700...</td>\n",
       "      <td>PU</td>\n",
       "    </tr>\n",
       "  </tbody>\n",
       "</table>\n",
       "</div>"
      ],
      "text/plain": [
       "                                               geometry zone_c\n",
       "87    POLYGON ((-73.78129 40.70677, -73.79135 40.704...     RL\n",
       "1844  POLYGON ((-74.00254 40.73345, -74.00254 40.733...     PU\n",
       "2372  POLYGON ((-73.91161 40.84488, -73.91206 40.844...     PU\n",
       "2523  POLYGON ((-73.82649 40.86116, -73.82648 40.861...     PU\n",
       "1739  POLYGON ((-73.98560 40.70144, -73.98563 40.700...     PU"
      ]
     },
     "execution_count": 10,
     "metadata": {},
     "output_type": "execute_result"
    }
   ],
   "source": [
    "print(f\"data shape: {gdf_zoningm.shape}\")\n",
    "gdf_zoningm.sample(5)"
   ]
  },
  {
   "cell_type": "code",
   "execution_count": 11,
   "metadata": {},
   "outputs": [
    {
     "data": {
      "text/plain": [
       "<AxesSubplot:>"
      ]
     },
     "execution_count": 11,
     "metadata": {},
     "output_type": "execute_result"
    },
    {
     "data": {
      "image/png": "[encoded data removed]",
      "text/plain": [
       "<Figure size 432x288 with 1 Axes>"
      ]
     },
     "metadata": {
      "needs_background": "light"
     },
     "output_type": "display_data"
    }
   ],
   "source": [
    "gdf_zoningm[gdf_zoningm.zone_c == \"CC\"].plot()"
   ]
  },
  {
   "cell_type": "code",
   "execution_count": 12,
   "metadata": {},
   "outputs": [],
   "source": [
    "gdf_zoningm.to_csv(f\"result/gdf_zoningm_{VERSION}.csv\",index=False)"
   ]
  },
  {
   "cell_type": "markdown",
   "metadata": {},
   "source": [
    "## POI data "
   ]
  },
  {
   "cell_type": "code",
   "execution_count": 13,
   "metadata": {},
   "outputs": [],
   "source": [
    "df_poi = gpd.read_file(os.path.join(p_data,\"nycpoi\",\"PointOfInterest.shp\")).to_crs(\"epsg:4326\") \\\n",
    "            .convert_dtypes().astype({'FACI_DOM': int})\n",
    "\n",
    "# generate unique code for each poi type\n",
    "df_poix = df_poi[[\"FACILITY_T\",\"FACI_DOM\",\"NAME\",\"geometry\"]]\n",
    "combine_code = lambda x:f\"{x['FACILITY_T']:02d}{x['FACI_DOM']:02d}\"\n",
    "df_poix[\"code\"] = df_poi.apply(lambda x: combine_code(x), axis=1) \n",
    "\n",
    "## drop useless cols\n",
    "df_poix = df_poix.drop([\"FACILITY_T\",\"FACI_DOM\"],axis=1)\n",
    "\n",
    "# to gdf\n",
    "gdf_poi = gpd.GeoDataFrame(df_poix, geometry=\"geometry\",crs=\"epsg:4326\")\n",
    "\n",
    "# map code to category\n",
    "gdf_poi[\"type\"] = gdf_poi[\"code\"].astype(str).apply(lambda x:POICODE[x])"
   ]
  },
  {
   "cell_type": "code",
   "execution_count": 14,
   "metadata": {},
   "outputs": [
    {
     "name": "stdout",
     "output_type": "stream",
     "text": [
      "data shape: (19300, 4)\n"
     ]
    },
    {
     "data": {
      "text/html": [
       "<div>\n",
       "<style scoped>\n",
       "    .dataframe tbody tr th:only-of-type {\n",
       "        vertical-align: middle;\n",
       "    }\n",
       "\n",
       "    .dataframe tbody tr th {\n",
       "        vertical-align: top;\n",
       "    }\n",
       "\n",
       "    .dataframe thead th {\n",
       "        text-align: right;\n",
       "    }\n",
       "</style>\n",
       "<table border=\"1\" class=\"dataframe\">\n",
       "  <thead>\n",
       "    <tr style=\"text-align: right;\">\n",
       "      <th></th>\n",
       "      <th>NAME</th>\n",
       "      <th>geometry</th>\n",
       "      <th>code</th>\n",
       "      <th>type</th>\n",
       "    </tr>\n",
       "  </thead>\n",
       "  <tbody>\n",
       "    <tr>\n",
       "      <th>12119</th>\n",
       "      <td>LOCH RAVINE</td>\n",
       "      <td>POINT (-73.95758 40.79473)</td>\n",
       "      <td>0401</td>\n",
       "      <td>Recreational|Park</td>\n",
       "    </tr>\n",
       "    <tr>\n",
       "      <th>6978</th>\n",
       "      <td>BRONX CB 8</td>\n",
       "      <td>POINT (-73.90401 40.90624)</td>\n",
       "      <td>0801</td>\n",
       "      <td>Government|Government Office</td>\n",
       "    </tr>\n",
       "    <tr>\n",
       "      <th>3783</th>\n",
       "      <td>FMCP A MAURO PLGD</td>\n",
       "      <td>POINT (-73.82698 40.72271)</td>\n",
       "      <td>0409</td>\n",
       "      <td>Recreational|Playground</td>\n",
       "    </tr>\n",
       "    <tr>\n",
       "      <th>11334</th>\n",
       "      <td>BRONX RIVER HOUSES BLDG 5</td>\n",
       "      <td>POINT (-73.87622 40.83426)</td>\n",
       "      <td>0103</td>\n",
       "      <td>Residential|Public Housing Development</td>\n",
       "    </tr>\n",
       "    <tr>\n",
       "      <th>15678</th>\n",
       "      <td>FORT HAMILTON ARMY LODGING</td>\n",
       "      <td>POINT (-74.03085 40.60843)</td>\n",
       "      <td>0806</td>\n",
       "      <td>Government|Military</td>\n",
       "    </tr>\n",
       "  </tbody>\n",
       "</table>\n",
       "</div>"
      ],
      "text/plain": [
       "                             NAME                    geometry  code  \\\n",
       "12119                 LOCH RAVINE  POINT (-73.95758 40.79473)  0401   \n",
       "6978                   BRONX CB 8  POINT (-73.90401 40.90624)  0801   \n",
       "3783            FMCP A MAURO PLGD  POINT (-73.82698 40.72271)  0409   \n",
       "11334   BRONX RIVER HOUSES BLDG 5  POINT (-73.87622 40.83426)  0103   \n",
       "15678  FORT HAMILTON ARMY LODGING  POINT (-74.03085 40.60843)  0806   \n",
       "\n",
       "                                         type  \n",
       "12119                       Recreational|Park  \n",
       "6978             Government|Government Office  \n",
       "3783                  Recreational|Playground  \n",
       "11334  Residential|Public Housing Development  \n",
       "15678                     Government|Military  "
      ]
     },
     "execution_count": 14,
     "metadata": {},
     "output_type": "execute_result"
    }
   ],
   "source": [
    "print(f\"data shape: {gdf_poi.shape}\")\n",
    "gdf_poi.sample(5)"
   ]
  },
  {
   "cell_type": "code",
   "execution_count": 15,
   "metadata": {},
   "outputs": [
    {
     "data": {
      "text/plain": [
       "type\n",
       "Residential|Public Housing Development    2715\n",
       "Recreational|Park                         1439\n",
       "Social Services|Day Care Center           1227\n",
       "Religious|Church                          1221\n",
       "Recreational|Playground                    991\n",
       "Name: geometry, dtype: int64"
      ]
     },
     "execution_count": 15,
     "metadata": {},
     "output_type": "execute_result"
    }
   ],
   "source": [
    "# largest number of POIs\n",
    "gdf_poi.groupby(\"type\")[\"geometry\"].count().sort_values(ascending=False)[:5]"
   ]
  },
  {
   "cell_type": "code",
   "execution_count": 16,
   "metadata": {},
   "outputs": [
    {
     "data": {
      "text/plain": [
       "Text(0.5, 1.0, 'POI Frequences')"
      ]
     },
     "execution_count": 16,
     "metadata": {},
     "output_type": "execute_result"
    },
    {
     "data": {
      "image/png": "[encoded data removed]",
      "text/plain": [
       "<Figure size 432x288 with 1 Axes>"
      ]
     },
     "metadata": {
      "needs_background": "light"
     },
     "output_type": "display_data"
    }
   ],
   "source": [
    "freq = gdf_poi.groupby(\"code\")[\"geometry\"].count() \\\n",
    "        .sort_values(ascending= False).values\n",
    "plt.plot(freq)\n",
    "plt.title(\"POI Frequences\")"
   ]
  },
  {
   "cell_type": "code",
   "execution_count": 17,
   "metadata": {},
   "outputs": [],
   "source": [
    "gdf_poi.to_csv(f\"result/gdf_poi_{VERSION}.csv\",index=False)"
   ]
  },
  {
   "cell_type": "code",
   "execution_count": 18,
   "metadata": {},
   "outputs": [
    {
     "data": {
      "text/plain": [
       "<AxesSubplot:>"
      ]
     },
     "execution_count": 18,
     "metadata": {},
     "output_type": "execute_result"
    },
    {
     "data": {
      "image/png": "[encoded data removed]",
      "text/plain": [
       "<Figure size 432x288 with 1 Axes>"
      ]
     },
     "metadata": {
      "needs_background": "light"
     },
     "output_type": "display_data"
    }
   ],
   "source": [
    "gdf_poi[gdf_poi[\"code\"]==\"0901\"].plot(markersize=3) # church"
   ]
  },
  {
   "cell_type": "markdown",
   "metadata": {},
   "source": [
    "* Poi classification system from [DataSource](https://github.com/CityOfNewYork/nyc-geo-metadata/blob/master/Metadata/Metadata_PointsOfInterest.md)\n",
    "\n",
    "1 Residential  \n",
    "2 Education Facility  \n",
    "3 Cultural Facility  \n",
    "4 Recreational Facility  \n",
    "5 Social Services   \n",
    "6 Transportation Facility  \n",
    "7 Commercial  \n",
    "8 Government Facility (non public safety)  \n",
    "9 Religious Institution  \n",
    "10 Health Services  \n",
    "11 Public Safety  \n",
    "12 Water  \n",
    "13 Miscellaneous  "
   ]
  },
  {
   "cell_type": "markdown",
   "metadata": {},
   "source": [
    "## Taxi trips"
   ]
  },
  {
   "cell_type": "code",
   "execution_count": 19,
   "metadata": {},
   "outputs": [
    {
     "name": "stdout",
     "output_type": "stream",
     "text": [
      "(1510722, 21)\n",
      "(11382049, 19)\n"
     ]
    }
   ],
   "source": [
    "df_tf_green = pd.read_csv(p_greentaxi,low_memory=False)\n",
    "print(df_tf_green.shape)\n",
    "\n",
    "df_tf_yellow = pd.read_csv(p_yellowtaxi,low_memory=False)\n",
    "print(df_tf_yellow.shape)"
   ]
  },
  {
   "cell_type": "code",
   "execution_count": 20,
   "metadata": {},
   "outputs": [],
   "source": [
    "# rename columns to concat\n",
    "df_tf_yellow_R = df_tf_yellow[['tpep_pickup_datetime','tpep_dropoff_datetime','pickup_longitude', 'pickup_latitude', \n",
    "                               'dropoff_longitude', 'dropoff_latitude', 'trip_distance', 'passenger_count']]\n",
    "    \n",
    "df_tf_green_R = df_tf_green[['lpep_pickup_datetime','Lpep_dropoff_datetime','Pickup_longitude', 'Pickup_latitude', \n",
    "                             'Dropoff_longitude', 'Dropoff_latitude','Trip_distance', 'Passenger_count']]\n",
    "df_tf_green_R.columns  = df_tf_yellow_R.columns\n",
    "\n",
    "df_trips = pd.concat([df_tf_yellow_R, df_tf_green_R]).reset_index(drop=True)"
   ]
  },
  {
   "cell_type": "code",
   "execution_count": 21,
   "metadata": {},
   "outputs": [],
   "source": [
    "# simplify col names\n",
    "df_trips.columns = [\"put\",\"dot\",'pu_lon',\"pu_lat\",\"do_lon\",\"do_lat\",\"dis\",\"pasg\"]"
   ]
  },
  {
   "cell_type": "markdown",
   "metadata": {},
   "source": [
    "### Date feature extraction"
   ]
  },
  {
   "cell_type": "code",
   "execution_count": 22,
   "metadata": {},
   "outputs": [],
   "source": [
    "df_trips['put'] = pd.to_datetime(df_trips['put'])\n",
    "df_trips['dot'] = pd.to_datetime(df_trips['dot'])\n",
    "\n",
    "df_trips[\"delta\"] = df_trips[\"dot\"] - df_trips[\"put\"] ## fastest way to calculate the time delta\n",
    "\n",
    "df_trips[\"delta\"] = df_trips[\"delta\"].astype(\"timedelta64[s]\").astype(int)"
   ]
  },
  {
   "cell_type": "code",
   "execution_count": 23,
   "metadata": {},
   "outputs": [],
   "source": [
    "# Extracte date features\n",
    "df_trips = date_features(df_trips,\"put\")"
   ]
  },
  {
   "cell_type": "markdown",
   "metadata": {},
   "source": [
    "### filter outliers"
   ]
  },
  {
   "cell_type": "code",
   "execution_count": 24,
   "metadata": {},
   "outputs": [
    {
     "data": {
      "text/plain": [
       "[-74.25625312936339, -73.70015360952254, 40.49111261274054, 40.916512995969605]"
      ]
     },
     "execution_count": 24,
     "metadata": {},
     "output_type": "execute_result"
    }
   ],
   "source": [
    "## bounding box\n",
    "[gdf_zoning.bounds.minx.min(),gdf_zoning.bounds.maxx.max(),gdf_zoning.bounds.miny.min(),gdf_zoning.bounds.maxy.max()]"
   ]
  },
  {
   "cell_type": "code",
   "execution_count": 25,
   "metadata": {},
   "outputs": [],
   "source": [
    "df_trips = df_trips[(df_trips[\"pu_lon\"] > -74.3)&(df_trips[\"pu_lon\"] < -73.5) &\n",
    "                    (df_trips[\"pu_lat\"] >  40.4)&(df_trips[\"pu_lat\"] <  41) &\n",
    "                    (df_trips[\"do_lon\"] > -74.3)&(df_trips[\"do_lon\"] < -73.5) &\n",
    "                    (df_trips[\"do_lat\"] >  40.4)&(df_trips[\"do_lat\"] <  41)]"
   ]
  },
  {
   "cell_type": "code",
   "execution_count": 26,
   "metadata": {},
   "outputs": [],
   "source": [
    "df_trips = df_trips[df_trips[\"delta\"] > 0 ]"
   ]
  },
  {
   "cell_type": "code",
   "execution_count": 27,
   "metadata": {},
   "outputs": [],
   "source": [
    "# average speed\n",
    "df_trips[\"speed\"] = df_trips[\"dis\"]/df_trips[\"delta\"] # km/s \n",
    "df_trips = df_trips[(df_trips[\"speed\"]< 0.05) &(df_trips[\"speed\"]>= 0) ] # should less than 0.05 km/s = 180 km/h"
   ]
  },
  {
   "cell_type": "code",
   "execution_count": 28,
   "metadata": {},
   "outputs": [
    {
     "data": {
      "text/plain": [
       "<AxesSubplot:>"
      ]
     },
     "execution_count": 28,
     "metadata": {},
     "output_type": "execute_result"
    },
    {
     "data": {
      "image/png": "[encoded data removed]",
      "text/plain": [
       "<Figure size 432x288 with 1 Axes>"
      ]
     },
     "metadata": {
      "needs_background": "light"
     },
     "output_type": "display_data"
    }
   ],
   "source": [
    "df_trips[\"speed\"].hist(bins=50)"
   ]
  },
  {
   "cell_type": "code",
   "execution_count": 29,
   "metadata": {},
   "outputs": [],
   "source": [
    "# df_trips.loc[df_trips[\"speed\"].idxmax()].speed  # max speed trip"
   ]
  },
  {
   "cell_type": "code",
   "execution_count": 30,
   "metadata": {},
   "outputs": [],
   "source": [
    "df_trips = df_trips.reset_index(drop=True)"
   ]
  },
  {
   "cell_type": "code",
   "execution_count": 31,
   "metadata": {},
   "outputs": [
    {
     "data": {
      "text/html": [
       "<div>\n",
       "<style scoped>\n",
       "    .dataframe tbody tr th:only-of-type {\n",
       "        vertical-align: middle;\n",
       "    }\n",
       "\n",
       "    .dataframe tbody tr th {\n",
       "        vertical-align: top;\n",
       "    }\n",
       "\n",
       "    .dataframe thead th {\n",
       "        text-align: right;\n",
       "    }\n",
       "</style>\n",
       "<table border=\"1\" class=\"dataframe\">\n",
       "  <thead>\n",
       "    <tr style=\"text-align: right;\">\n",
       "      <th></th>\n",
       "      <th>put</th>\n",
       "      <th>dot</th>\n",
       "      <th>pu_lon</th>\n",
       "      <th>pu_lat</th>\n",
       "      <th>do_lon</th>\n",
       "      <th>do_lat</th>\n",
       "      <th>dis</th>\n",
       "      <th>pasg</th>\n",
       "      <th>delta</th>\n",
       "      <th>put_day</th>\n",
       "      <th>put_hour</th>\n",
       "      <th>put_weekend</th>\n",
       "      <th>speed</th>\n",
       "    </tr>\n",
       "  </thead>\n",
       "  <tbody>\n",
       "    <tr>\n",
       "      <th>0</th>\n",
       "      <td>2016-02-25 17:24:20</td>\n",
       "      <td>2016-02-25 17:27:20</td>\n",
       "      <td>-73.947250</td>\n",
       "      <td>40.763771</td>\n",
       "      <td>-73.992012</td>\n",
       "      <td>40.735390</td>\n",
       "      <td>0.70</td>\n",
       "      <td>2</td>\n",
       "      <td>180</td>\n",
       "      <td>25</td>\n",
       "      <td>17</td>\n",
       "      <td>0</td>\n",
       "      <td>0.003889</td>\n",
       "    </tr>\n",
       "    <tr>\n",
       "      <th>1</th>\n",
       "      <td>2016-02-25 23:10:50</td>\n",
       "      <td>2016-02-25 23:31:50</td>\n",
       "      <td>-73.983017</td>\n",
       "      <td>40.750992</td>\n",
       "      <td>-73.988586</td>\n",
       "      <td>40.758839</td>\n",
       "      <td>5.52</td>\n",
       "      <td>2</td>\n",
       "      <td>1260</td>\n",
       "      <td>25</td>\n",
       "      <td>23</td>\n",
       "      <td>0</td>\n",
       "      <td>0.004381</td>\n",
       "    </tr>\n",
       "    <tr>\n",
       "      <th>2</th>\n",
       "      <td>2016-02-01 00:00:01</td>\n",
       "      <td>2016-02-01 00:10:52</td>\n",
       "      <td>-73.992340</td>\n",
       "      <td>40.758202</td>\n",
       "      <td>-73.964355</td>\n",
       "      <td>40.757977</td>\n",
       "      <td>1.99</td>\n",
       "      <td>6</td>\n",
       "      <td>651</td>\n",
       "      <td>1</td>\n",
       "      <td>0</td>\n",
       "      <td>0</td>\n",
       "      <td>0.003057</td>\n",
       "    </tr>\n",
       "    <tr>\n",
       "      <th>3</th>\n",
       "      <td>2016-02-01 00:00:04</td>\n",
       "      <td>2016-02-01 00:05:16</td>\n",
       "      <td>-73.981453</td>\n",
       "      <td>40.749722</td>\n",
       "      <td>-73.982323</td>\n",
       "      <td>40.763985</td>\n",
       "      <td>1.50</td>\n",
       "      <td>1</td>\n",
       "      <td>312</td>\n",
       "      <td>1</td>\n",
       "      <td>0</td>\n",
       "      <td>0</td>\n",
       "      <td>0.004808</td>\n",
       "    </tr>\n",
       "    <tr>\n",
       "      <th>4</th>\n",
       "      <td>2016-02-01 00:00:05</td>\n",
       "      <td>2016-02-01 00:20:59</td>\n",
       "      <td>-74.000603</td>\n",
       "      <td>40.729755</td>\n",
       "      <td>-73.951324</td>\n",
       "      <td>40.669834</td>\n",
       "      <td>5.60</td>\n",
       "      <td>1</td>\n",
       "      <td>1254</td>\n",
       "      <td>1</td>\n",
       "      <td>0</td>\n",
       "      <td>0</td>\n",
       "      <td>0.004466</td>\n",
       "    </tr>\n",
       "  </tbody>\n",
       "</table>\n",
       "</div>"
      ],
      "text/plain": [
       "                  put                 dot     pu_lon     pu_lat     do_lon  \\\n",
       "0 2016-02-25 17:24:20 2016-02-25 17:27:20 -73.947250  40.763771 -73.992012   \n",
       "1 2016-02-25 23:10:50 2016-02-25 23:31:50 -73.983017  40.750992 -73.988586   \n",
       "2 2016-02-01 00:00:01 2016-02-01 00:10:52 -73.992340  40.758202 -73.964355   \n",
       "3 2016-02-01 00:00:04 2016-02-01 00:05:16 -73.981453  40.749722 -73.982323   \n",
       "4 2016-02-01 00:00:05 2016-02-01 00:20:59 -74.000603  40.729755 -73.951324   \n",
       "\n",
       "      do_lat   dis  pasg  delta  put_day  put_hour  put_weekend     speed  \n",
       "0  40.735390  0.70     2    180       25        17            0  0.003889  \n",
       "1  40.758839  5.52     2   1260       25        23            0  0.004381  \n",
       "2  40.757977  1.99     6    651        1         0            0  0.003057  \n",
       "3  40.763985  1.50     1    312        1         0            0  0.004808  \n",
       "4  40.669834  5.60     1   1254        1         0            0  0.004466  "
      ]
     },
     "execution_count": 31,
     "metadata": {},
     "output_type": "execute_result"
    }
   ],
   "source": [
    "df_trips.head()"
   ]
  },
  {
   "cell_type": "code",
   "execution_count": 32,
   "metadata": {},
   "outputs": [],
   "source": [
    "# # hugely time-consuming\n",
    "# df_trips.to_csv(f\"result/df_trips_{VERSION}.csv\",index=False)"
   ]
  },
  {
   "cell_type": "markdown",
   "metadata": {},
   "source": [
    "## Transform trips to flows between regions"
   ]
  },
  {
   "cell_type": "code",
   "execution_count": 33,
   "metadata": {},
   "outputs": [],
   "source": [
    "##  spatial join based on lon lat and zoning boundary to get origin id of flows\n",
    "gdf_trips_origin = gpd.GeoDataFrame(df_trips, crs=\"epsg:4326\", \\\n",
    "                       geometry=gpd.points_from_xy(df_trips.pu_lon, df_trips.pu_lat))\n",
    "\n",
    "# https://gis.stackexchange.com/questions/175228/geopandas-spatial-join-extremely-slow\n",
    "\n",
    "gdf_tf_o = sjoin(gdf_trips_origin, gdf_zoning[[\"geometry\"]], how=\"inner\", op=\"within\") \\\n",
    "            .rename(columns={\"index_right\":\"Origin_ID\"})"
   ]
  },
  {
   "cell_type": "code",
   "execution_count": 34,
   "metadata": {},
   "outputs": [],
   "source": [
    "##  spatial join based on lon lat and zoning boundary to get destiny id of flows\n",
    "df_tf_o = pd.DataFrame(gdf_tf_o)\n",
    "gdf_tf_od = gpd.GeoDataFrame(df_tf_o, crs=\"epsg:4326\", \\\n",
    "                geometry=gpd.points_from_xy(df_tf_o.do_lon, df_tf_o.do_lat))\n",
    "\n",
    "gdf_tf_od = sjoin(gdf_tf_od, gdf_zoning[[\"geometry\"]], how=\"inner\",op=\"within\") \\\n",
    "                .rename(columns={\"index_right\":\"Destiny_ID\"})"
   ]
  },
  {
   "cell_type": "code",
   "execution_count": 35,
   "metadata": {},
   "outputs": [],
   "source": [
    "# Method chaining to avoid naming variables\n",
    "# drop useless lon lat cols --> simplify col names --> add zoning type col to od flow --> \n",
    "# assign travel categories based on zoning type\n",
    "df_tf_odRegion = pd.DataFrame(gdf_tf_od[[\"Origin_ID\",\"Destiny_ID\", \"put_day\",\"put_hour\",\"put_weekend\",\"pasg\"]]) \\\n",
    "                    .rename(columns= {\"put_day\":\"dayofmonth\",\"put_hour\":\"hour\",\"put_weekend\":\"weekend\"}) \\\n",
    "                    .merge(gdf_zoningm[[\"zone_c\"]],left_on= \"Origin_ID\",right_index=True) \\\n",
    "                    .merge(gdf_zoningm[[\"zone_c\"]],left_on= \"Destiny_ID\",right_index=True,suffixes=(\"_origin\",\"_desitny\")) \\\n",
    "                    .assign(zone_c_od=lambda x: x['zone_c_origin']+x['zone_c_desitny']) \\\n",
    "                    .astype({'zone_c_od': 'category'})"
   ]
  },
  {
   "cell_type": "code",
   "execution_count": 36,
   "metadata": {},
   "outputs": [],
   "source": [
    "df_tf_odRegion.to_csv(f\"result/df_tf_odRegion_{VERSION}.csv\",index=False)"
   ]
  }
 ],
 "metadata": {
  "kernelspec": {
   "display_name": "Python 3",
   "language": "python",
   "name": "python3"
  },
  "language_info": {
   "codemirror_mode": {
    "name": "ipython",
    "version": 3
   },
   "file_extension": ".py",
   "mimetype": "text/x-python",
   "name": "python",
   "nbconvert_exporter": "python",
   "pygments_lexer": "ipython3",
   "version": "3.8.5"
  },
  "latex_envs": {
   "LaTeX_envs_menu_present": true,
   "autoclose": false,
   "autocomplete": true,
   "bibliofile": "biblio.bib",
   "cite_by": "apalike",
   "current_citInitial": 1,
   "eqLabelWithNumbers": true,
   "eqNumInitial": 1,
   "hotkeys": {
    "equation": "Ctrl-E",
    "itemize": "Ctrl-I"
   },
   "labels_anchors": false,
   "latex_user_defs": false,
   "report_style_numbering": false,
   "user_envs_cfg": false
  },
  "toc": {
   "base_numbering": 1,
   "nav_menu": {},
   "number_sections": true,
   "sideBar": true,
   "skip_h1_title": false,
   "title_cell": "Table of Contents",
   "title_sidebar": "Contents",
   "toc_cell": false,
   "toc_position": {
    "height": "calc(100% - 180px)",
    "left": "10px",
    "top": "150px",
    "width": "407.543px"
   },
   "toc_section_display": true,
   "toc_window_display": true
  }
 },
 "nbformat": 4,
 "nbformat_minor": 4
}
