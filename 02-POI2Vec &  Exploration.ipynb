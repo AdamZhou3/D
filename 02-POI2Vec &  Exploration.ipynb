{
 "cells": [
  {
   "cell_type": "code",
   "execution_count": 1,
   "metadata": {},
   "outputs": [],
   "source": [
    "# DS\n",
    "import pandas as pd \n",
    "import numpy as np\n",
    "import matplotlib.pyplot as plt\n",
    "import seaborn as sns\n",
    "import geopandas as gpd\n",
    "\n",
    "import gensim\n",
    "from gensim.models.doc2vec import TaggedDocument, Doc2Vec\n",
    "\n",
    "from my_utils import *"
   ]
  },
  {
   "cell_type": "code",
   "execution_count": 2,
   "metadata": {},
   "outputs": [
    {
     "name": "stdout",
     "output_type": "stream",
     "text": [
      "v3.0\n"
     ]
    }
   ],
   "source": [
    "pd.options.mode.chained_assignment = None  # default='warn' # disable chain assignment warnings\n",
    "\n",
    "p_data = \"data\"\n",
    "\n",
    "print(VERSION)"
   ]
  },
  {
   "cell_type": "markdown",
   "metadata": {},
   "source": [
    "# POI2Vec"
   ]
  },
  {
   "cell_type": "code",
   "execution_count": 3,
   "metadata": {},
   "outputs": [],
   "source": [
    "gdf_zoning = read_csv_to_gdf(f\"result/gdf_zoning_{VERSION}.csv\").to_crs(\"epsg:2263\")\n",
    "gdf_poi = gpd.GeoDataFrame(pd.read_pickle(f\"result/gdf_poi_{VERSION}.pkl\"),crs=\"epsg:4326\",geometry=\"geometry\").to_crs(\"epsg:2263\")"
   ]
  },
  {
   "cell_type": "code",
   "execution_count": 4,
   "metadata": {},
   "outputs": [],
   "source": []
  },
  {
   "cell_type": "markdown",
   "metadata": {},
   "source": [
    "##  generate sequences"
   ]
  },
  {
   "cell_type": "code",
   "execution_count": 6,
   "metadata": {},
   "outputs": [
    {
     "data": {
      "text/html": [
       "<div>\n",
       "<style scoped>\n",
       "    .dataframe tbody tr th:only-of-type {\n",
       "        vertical-align: middle;\n",
       "    }\n",
       "\n",
       "    .dataframe tbody tr th {\n",
       "        vertical-align: top;\n",
       "    }\n",
       "\n",
       "    .dataframe thead th {\n",
       "        text-align: right;\n",
       "    }\n",
       "</style>\n",
       "<table border=\"1\" class=\"dataframe\">\n",
       "  <thead>\n",
       "    <tr style=\"text-align: right;\">\n",
       "      <th></th>\n",
       "      <th>ZONEDIST</th>\n",
       "      <th>Shape_Leng</th>\n",
       "      <th>Shape_Area</th>\n",
       "      <th>geometry</th>\n",
       "      <th>zone_c</th>\n",
       "    </tr>\n",
       "  </thead>\n",
       "  <tbody>\n",
       "    <tr>\n",
       "      <th>0</th>\n",
       "      <td>R5</td>\n",
       "      <td>1862.207446</td>\n",
       "      <td>1.943711e+05</td>\n",
       "      <td>POLYGON ((960088.755 175295.955, 960167.942 17...</td>\n",
       "      <td>RL</td>\n",
       "    </tr>\n",
       "    <tr>\n",
       "      <th>1</th>\n",
       "      <td>R5</td>\n",
       "      <td>19208.305164</td>\n",
       "      <td>2.767667e+06</td>\n",
       "      <td>POLYGON ((960059.292 174171.108, 960059.475 17...</td>\n",
       "      <td>RL</td>\n",
       "    </tr>\n",
       "    <tr>\n",
       "      <th>2</th>\n",
       "      <td>R6</td>\n",
       "      <td>2935.376415</td>\n",
       "      <td>5.333286e+05</td>\n",
       "      <td>POLYGON ((961651.706 174650.645, 961660.812 17...</td>\n",
       "      <td>RH</td>\n",
       "    </tr>\n",
       "    <tr>\n",
       "      <th>3</th>\n",
       "      <td>R4</td>\n",
       "      <td>3246.982638</td>\n",
       "      <td>5.797014e+05</td>\n",
       "      <td>POLYGON ((961651.706 174650.645, 961674.810 17...</td>\n",
       "      <td>RL</td>\n",
       "    </tr>\n",
       "    <tr>\n",
       "      <th>4</th>\n",
       "      <td>M1-1</td>\n",
       "      <td>1797.546542</td>\n",
       "      <td>1.966755e+05</td>\n",
       "      <td>POLYGON ((960152.794 174247.268, 960059.475 17...</td>\n",
       "      <td>MU</td>\n",
       "    </tr>\n",
       "    <tr>\n",
       "      <th>...</th>\n",
       "      <td>...</td>\n",
       "      <td>...</td>\n",
       "      <td>...</td>\n",
       "      <td>...</td>\n",
       "      <td>...</td>\n",
       "    </tr>\n",
       "    <tr>\n",
       "      <th>5465</th>\n",
       "      <td>PARK</td>\n",
       "      <td>89.886438</td>\n",
       "      <td>2.464241e+01</td>\n",
       "      <td>POLYGON ((1004519.280 252141.155, 1004522.409 ...</td>\n",
       "      <td>PU</td>\n",
       "    </tr>\n",
       "    <tr>\n",
       "      <th>5466</th>\n",
       "      <td>PARK</td>\n",
       "      <td>90.809731</td>\n",
       "      <td>2.530755e+01</td>\n",
       "      <td>POLYGON ((1004553.272 252204.641, 1004558.730 ...</td>\n",
       "      <td>PU</td>\n",
       "    </tr>\n",
       "    <tr>\n",
       "      <th>5467</th>\n",
       "      <td>PARK</td>\n",
       "      <td>319.401729</td>\n",
       "      <td>3.051550e+01</td>\n",
       "      <td>POLYGON ((1004606.624 252259.543, 1004616.892 ...</td>\n",
       "      <td>PU</td>\n",
       "    </tr>\n",
       "    <tr>\n",
       "      <th>5468</th>\n",
       "      <td>PARK</td>\n",
       "      <td>426.120847</td>\n",
       "      <td>6.939689e+01</td>\n",
       "      <td>POLYGON ((1004464.949 251935.144, 1004475.689 ...</td>\n",
       "      <td>PU</td>\n",
       "    </tr>\n",
       "    <tr>\n",
       "      <th>5469</th>\n",
       "      <td>R3X</td>\n",
       "      <td>354.426093</td>\n",
       "      <td>3.869062e+02</td>\n",
       "      <td>POLYGON ((941176.294 151345.292, 941100.837 15...</td>\n",
       "      <td>RL</td>\n",
       "    </tr>\n",
       "  </tbody>\n",
       "</table>\n",
       "<p>5470 rows × 5 columns</p>\n",
       "</div>"
      ],
      "text/plain": [
       "     ZONEDIST    Shape_Leng    Shape_Area  \\\n",
       "0          R5   1862.207446  1.943711e+05   \n",
       "1          R5  19208.305164  2.767667e+06   \n",
       "2          R6   2935.376415  5.333286e+05   \n",
       "3          R4   3246.982638  5.797014e+05   \n",
       "4        M1-1   1797.546542  1.966755e+05   \n",
       "...       ...           ...           ...   \n",
       "5465     PARK     89.886438  2.464241e+01   \n",
       "5466     PARK     90.809731  2.530755e+01   \n",
       "5467     PARK    319.401729  3.051550e+01   \n",
       "5468     PARK    426.120847  6.939689e+01   \n",
       "5469      R3X    354.426093  3.869062e+02   \n",
       "\n",
       "                                               geometry zone_c  \n",
       "0     POLYGON ((960088.755 175295.955, 960167.942 17...     RL  \n",
       "1     POLYGON ((960059.292 174171.108, 960059.475 17...     RL  \n",
       "2     POLYGON ((961651.706 174650.645, 961660.812 17...     RH  \n",
       "3     POLYGON ((961651.706 174650.645, 961674.810 17...     RL  \n",
       "4     POLYGON ((960152.794 174247.268, 960059.475 17...     MU  \n",
       "...                                                 ...    ...  \n",
       "5465  POLYGON ((1004519.280 252141.155, 1004522.409 ...     PU  \n",
       "5466  POLYGON ((1004553.272 252204.641, 1004558.730 ...     PU  \n",
       "5467  POLYGON ((1004606.624 252259.543, 1004616.892 ...     PU  \n",
       "5468  POLYGON ((1004464.949 251935.144, 1004475.689 ...     PU  \n",
       "5469  POLYGON ((941176.294 151345.292, 941100.837 15...     RL  \n",
       "\n",
       "[5470 rows x 5 columns]"
      ]
     },
     "execution_count": 6,
     "metadata": {},
     "output_type": "execute_result"
    }
   ],
   "source": [
    "gdf_zoning"
   ]
  },
  {
   "cell_type": "code",
   "execution_count": 7,
   "metadata": {},
   "outputs": [],
   "source": [
    "gdf_zoningm.to_file(\"demo.shp\")"
   ]
  },
  {
   "cell_type": "code",
   "execution_count": 317,
   "metadata": {},
   "outputs": [],
   "source": [
    "import tqdm\n",
    "from shapely.geometry import Polygon\n",
    "from geopandas.tools import sjoin \n",
    "\n",
    "def get_sequences_by_distancegreedy(gdf_tz, gdf_poi):\n",
    "    sequences={}\n",
    "    gdf_tz[\"geometry\"] =  gdf_tz.apply(lambda x:Polygon(x[\"geometry\"].buffer(100).exterior), axis=1)\n",
    "    df_join = sjoin(gdf_poi, gdf_tz, how=\"inner\",op=\"within\")\n",
    "    \n",
    "    for tz_ind in tqdm.tqdm(df_join.index_right.unique()):\n",
    "        tz_pois = df_join[df_join.index_right==tz_ind].reset_index()\n",
    "#     for tz_ind in tqdm.tqdm(range(len(gdf_tz))):\n",
    "        \n",
    "#         tz = gdf_tz.iloc[tz_ind,:].geometry\n",
    "#         tz_pois = gdf_poi[gdf_poi.within(tz)].reset_index()\n",
    "        #print(len(tz_pois))\n",
    "        if tz_pois.shape[0]>0:\n",
    "            ## create distance matrix for each two points\n",
    "            pnt_num = tz_pois.shape[0]\n",
    "            dismat = np.zeros(shape=(pnt_num,pnt_num),dtype=int)\n",
    "            for i in range(pnt_num):\n",
    "                for j in range(pnt_num):\n",
    "                    dismat[i,j] = int(tz_pois.loc[i,\"geometry\"].distance(tz_pois.loc[j,\"geometry\"]))\n",
    "\n",
    "            ## get the pair with largest distance\n",
    "            visited = list(np.unravel_index(np.argmax(dismat, axis=None), dismat.shape))\n",
    "            \n",
    "            ## list of to be visited points\n",
    "            not_visited = [x for x in range(pnt_num) if x not in visited]\n",
    "\n",
    "            np.random.shuffle(not_visited)\n",
    "\n",
    "            while not_visited:\n",
    "                to_be_visit = not_visited.pop()\n",
    "                if len(visited)==2:\n",
    "                    visited.insert(1,to_be_visit)\n",
    "                    pass\n",
    "                else:\n",
    "                    ## find the index to insert\n",
    "                    search_bound = list(zip(visited[0:-1],visited[1:]))\n",
    "                    dis = [dismat[to_be_visit,x]+dismat[to_be_visit,y] for x,y in search_bound]\n",
    "                    insert_place = dis.index(min(dis))+1\n",
    "\n",
    "                    visited.insert(insert_place,to_be_visit)\n",
    "            sequences[tz_ind] = tz_pois.loc[visited,\"code\"].values\n",
    "            # yield sequences\n",
    "    return sequences"
   ]
  },
  {
   "cell_type": "markdown",
   "metadata": {},
   "source": [
    "### Option 1. Distance Greedy "
   ]
  },
  {
   "cell_type": "code",
   "execution_count": 11,
   "metadata": {},
   "outputs": [],
   "source": [
    "from shapely.geometry import Polygon\n",
    "from geopandas.tools import sjoin\n",
    "\n",
    "gdf_zoning[\"geometry\"] =  gdf_zoning.apply(lambda x:Polygon(x[\"geometry\"].buffer(100).exterior), axis=1)\n",
    "df_join = sjoin(gdf_poi, gdf_zoning, how=\"inner\",op=\"within\")"
   ]
  },
  {
   "cell_type": "code",
   "execution_count": 13,
   "metadata": {},
   "outputs": [
    {
     "data": {
      "text/html": [
       "<div>\n",
       "<style scoped>\n",
       "    .dataframe tbody tr th:only-of-type {\n",
       "        vertical-align: middle;\n",
       "    }\n",
       "\n",
       "    .dataframe tbody tr th {\n",
       "        vertical-align: top;\n",
       "    }\n",
       "\n",
       "    .dataframe thead th {\n",
       "        text-align: right;\n",
       "    }\n",
       "</style>\n",
       "<table border=\"1\" class=\"dataframe\">\n",
       "  <thead>\n",
       "    <tr style=\"text-align: right;\">\n",
       "      <th></th>\n",
       "      <th>ZONEDIST</th>\n",
       "      <th>Shape_Leng</th>\n",
       "      <th>Shape_Area</th>\n",
       "      <th>geometry</th>\n",
       "      <th>zone_c</th>\n",
       "    </tr>\n",
       "  </thead>\n",
       "  <tbody>\n",
       "    <tr>\n",
       "      <th>0</th>\n",
       "      <td>R5</td>\n",
       "      <td>1862.207446</td>\n",
       "      <td>1.943711e+05</td>\n",
       "      <td>POLYGON ((959934.924 175168.142, 959931.848 17...</td>\n",
       "      <td>RL</td>\n",
       "    </tr>\n",
       "    <tr>\n",
       "      <th>1</th>\n",
       "      <td>R5</td>\n",
       "      <td>19208.305164</td>\n",
       "      <td>2.767667e+06</td>\n",
       "      <td>POLYGON ((959597.010 171677.460, 959586.798 17...</td>\n",
       "      <td>RL</td>\n",
       "    </tr>\n",
       "    <tr>\n",
       "      <th>2</th>\n",
       "      <td>R6</td>\n",
       "      <td>2935.376415</td>\n",
       "      <td>5.333286e+05</td>\n",
       "      <td>POLYGON ((961567.908 174469.047, 961563.544 17...</td>\n",
       "      <td>RH</td>\n",
       "    </tr>\n",
       "    <tr>\n",
       "      <th>3</th>\n",
       "      <td>R4</td>\n",
       "      <td>3246.982638</td>\n",
       "      <td>5.797014e+05</td>\n",
       "      <td>POLYGON ((961735.613 174832.193, 961758.609 17...</td>\n",
       "      <td>RL</td>\n",
       "    </tr>\n",
       "    <tr>\n",
       "      <th>4</th>\n",
       "      <td>M1-1</td>\n",
       "      <td>1797.546542</td>\n",
       "      <td>1.966755e+05</td>\n",
       "      <td>POLYGON ((960279.655 174092.652, 960186.272 17...</td>\n",
       "      <td>MU</td>\n",
       "    </tr>\n",
       "    <tr>\n",
       "      <th>...</th>\n",
       "      <td>...</td>\n",
       "      <td>...</td>\n",
       "      <td>...</td>\n",
       "      <td>...</td>\n",
       "      <td>...</td>\n",
       "    </tr>\n",
       "    <tr>\n",
       "      <th>5465</th>\n",
       "      <td>PARK</td>\n",
       "      <td>89.886438</td>\n",
       "      <td>2.464241e+01</td>\n",
       "      <td>POLYGON ((1004700.203 252055.907, 1004697.980 ...</td>\n",
       "      <td>PU</td>\n",
       "    </tr>\n",
       "    <tr>\n",
       "      <th>5466</th>\n",
       "      <td>PARK</td>\n",
       "      <td>90.809731</td>\n",
       "      <td>2.530755e+01</td>\n",
       "      <td>POLYGON ((1004704.604 252073.879, 1004701.271 ...</td>\n",
       "      <td>PU</td>\n",
       "    </tr>\n",
       "    <tr>\n",
       "      <th>5467</th>\n",
       "      <td>PARK</td>\n",
       "      <td>319.401729</td>\n",
       "      <td>3.051550e+01</td>\n",
       "      <td>POLYGON ((1004728.279 252100.798, 1004724.348 ...</td>\n",
       "      <td>PU</td>\n",
       "    </tr>\n",
       "    <tr>\n",
       "      <th>5468</th>\n",
       "      <td>PARK</td>\n",
       "      <td>426.120847</td>\n",
       "      <td>6.939689e+01</td>\n",
       "      <td>POLYGON ((1004658.337 251884.142, 1004656.970 ...</td>\n",
       "      <td>PU</td>\n",
       "    </tr>\n",
       "    <tr>\n",
       "      <th>5469</th>\n",
       "      <td>R3X</td>\n",
       "      <td>354.426093</td>\n",
       "      <td>3.869062e+02</td>\n",
       "      <td>POLYGON ((941290.905 151509.195, 941294.809 15...</td>\n",
       "      <td>RL</td>\n",
       "    </tr>\n",
       "  </tbody>\n",
       "</table>\n",
       "<p>5470 rows × 5 columns</p>\n",
       "</div>"
      ],
      "text/plain": [
       "     ZONEDIST    Shape_Leng    Shape_Area  \\\n",
       "0          R5   1862.207446  1.943711e+05   \n",
       "1          R5  19208.305164  2.767667e+06   \n",
       "2          R6   2935.376415  5.333286e+05   \n",
       "3          R4   3246.982638  5.797014e+05   \n",
       "4        M1-1   1797.546542  1.966755e+05   \n",
       "...       ...           ...           ...   \n",
       "5465     PARK     89.886438  2.464241e+01   \n",
       "5466     PARK     90.809731  2.530755e+01   \n",
       "5467     PARK    319.401729  3.051550e+01   \n",
       "5468     PARK    426.120847  6.939689e+01   \n",
       "5469      R3X    354.426093  3.869062e+02   \n",
       "\n",
       "                                               geometry zone_c  \n",
       "0     POLYGON ((959934.924 175168.142, 959931.848 17...     RL  \n",
       "1     POLYGON ((959597.010 171677.460, 959586.798 17...     RL  \n",
       "2     POLYGON ((961567.908 174469.047, 961563.544 17...     RH  \n",
       "3     POLYGON ((961735.613 174832.193, 961758.609 17...     RL  \n",
       "4     POLYGON ((960279.655 174092.652, 960186.272 17...     MU  \n",
       "...                                                 ...    ...  \n",
       "5465  POLYGON ((1004700.203 252055.907, 1004697.980 ...     PU  \n",
       "5466  POLYGON ((1004704.604 252073.879, 1004701.271 ...     PU  \n",
       "5467  POLYGON ((1004728.279 252100.798, 1004724.348 ...     PU  \n",
       "5468  POLYGON ((1004658.337 251884.142, 1004656.970 ...     PU  \n",
       "5469  POLYGON ((941290.905 151509.195, 941294.809 15...     RL  \n",
       "\n",
       "[5470 rows x 5 columns]"
      ]
     },
     "execution_count": 13,
     "metadata": {},
     "output_type": "execute_result"
    }
   ],
   "source": [
    "gdf_zoning"
   ]
  },
  {
   "cell_type": "code",
   "execution_count": 12,
   "metadata": {},
   "outputs": [
    {
     "data": {
      "text/plain": [
       "<AxesSubplot:>"
      ]
     },
     "execution_count": 12,
     "metadata": {},
     "output_type": "execute_result"
    },
    {
     "data": {
      "image/png": "[encoded data removed]",
      "text/plain": [
       "<Figure size 864x864 with 1 Axes>"
      ]
     },
     "metadata": {
      "needs_background": "light"
     },
     "output_type": "display_data"
    }
   ],
   "source": [
    "ax = gdf_zoning.plot(figsize=(12,12),facecolor=\"r\")\n",
    "gdf_zoning.loc[list(df_join.index_right.unique())].plot(ax=ax)"
   ]
  },
  {
   "cell_type": "code",
   "execution_count": 332,
   "metadata": {},
   "outputs": [
    {
     "name": "stderr",
     "output_type": "stream",
     "text": [
      "  1%|▍                                                                            | 10/1843 [04:17<13:07:48, 25.79s/it]\n"
     ]
    },
    {
     "ename": "KeyboardInterrupt",
     "evalue": "",
     "output_type": "error",
     "traceback": [
      "\u001b[1;31m---------------------------------------------------------------------------\u001b[0m",
      "\u001b[1;31mKeyboardInterrupt\u001b[0m                         Traceback (most recent call last)",
      "\u001b[1;32m<ipython-input-332-3401956f0295>\u001b[0m in \u001b[0;36m<module>\u001b[1;34m\u001b[0m\n\u001b[1;32m----> 1\u001b[1;33m \u001b[0msequences\u001b[0m \u001b[1;33m=\u001b[0m \u001b[0mget_sequences_by_distancegreedy\u001b[0m\u001b[1;33m(\u001b[0m\u001b[0mgdf_zoningm\u001b[0m\u001b[1;33m,\u001b[0m \u001b[0mgdf_poi\u001b[0m\u001b[1;33m)\u001b[0m\u001b[1;33m\u001b[0m\u001b[1;33m\u001b[0m\u001b[0m\n\u001b[0m",
      "\u001b[1;32m<ipython-input-317-d8c09b04eb1f>\u001b[0m in \u001b[0;36mget_sequences_by_distancegreedy\u001b[1;34m(gdf_tz, gdf_poi)\u001b[0m\n\u001b[0;32m     21\u001b[0m             \u001b[1;32mfor\u001b[0m \u001b[0mi\u001b[0m \u001b[1;32min\u001b[0m \u001b[0mrange\u001b[0m\u001b[1;33m(\u001b[0m\u001b[0mpnt_num\u001b[0m\u001b[1;33m)\u001b[0m\u001b[1;33m:\u001b[0m\u001b[1;33m\u001b[0m\u001b[1;33m\u001b[0m\u001b[0m\n\u001b[0;32m     22\u001b[0m                 \u001b[1;32mfor\u001b[0m \u001b[0mj\u001b[0m \u001b[1;32min\u001b[0m \u001b[0mrange\u001b[0m\u001b[1;33m(\u001b[0m\u001b[0mpnt_num\u001b[0m\u001b[1;33m)\u001b[0m\u001b[1;33m:\u001b[0m\u001b[1;33m\u001b[0m\u001b[1;33m\u001b[0m\u001b[0m\n\u001b[1;32m---> 23\u001b[1;33m                     \u001b[0mdismat\u001b[0m\u001b[1;33m[\u001b[0m\u001b[0mi\u001b[0m\u001b[1;33m,\u001b[0m\u001b[0mj\u001b[0m\u001b[1;33m]\u001b[0m \u001b[1;33m=\u001b[0m \u001b[0mint\u001b[0m\u001b[1;33m(\u001b[0m\u001b[0mtz_pois\u001b[0m\u001b[1;33m.\u001b[0m\u001b[0mloc\u001b[0m\u001b[1;33m[\u001b[0m\u001b[0mi\u001b[0m\u001b[1;33m,\u001b[0m\u001b[1;34m\"geometry\"\u001b[0m\u001b[1;33m]\u001b[0m\u001b[1;33m.\u001b[0m\u001b[0mdistance\u001b[0m\u001b[1;33m(\u001b[0m\u001b[0mtz_pois\u001b[0m\u001b[1;33m.\u001b[0m\u001b[0mloc\u001b[0m\u001b[1;33m[\u001b[0m\u001b[0mj\u001b[0m\u001b[1;33m,\u001b[0m\u001b[1;34m\"geometry\"\u001b[0m\u001b[1;33m]\u001b[0m\u001b[1;33m)\u001b[0m\u001b[1;33m)\u001b[0m\u001b[1;33m\u001b[0m\u001b[1;33m\u001b[0m\u001b[0m\n\u001b[0m\u001b[0;32m     24\u001b[0m \u001b[1;33m\u001b[0m\u001b[0m\n\u001b[0;32m     25\u001b[0m             \u001b[1;31m## get the pair with largest distance\u001b[0m\u001b[1;33m\u001b[0m\u001b[1;33m\u001b[0m\u001b[1;33m\u001b[0m\u001b[0m\n",
      "\u001b[1;32mD:\\Miniconda\\envs\\sds20\\lib\\site-packages\\shapely\\geometry\\base.py\u001b[0m in \u001b[0;36mdistance\u001b[1;34m(self, other)\u001b[0m\n\u001b[0;32m    442\u001b[0m     \u001b[1;32mdef\u001b[0m \u001b[0mdistance\u001b[0m\u001b[1;33m(\u001b[0m\u001b[0mself\u001b[0m\u001b[1;33m,\u001b[0m \u001b[0mother\u001b[0m\u001b[1;33m)\u001b[0m\u001b[1;33m:\u001b[0m\u001b[1;33m\u001b[0m\u001b[1;33m\u001b[0m\u001b[0m\n\u001b[0;32m    443\u001b[0m         \u001b[1;34m\"\"\"Unitless distance to other geometry (float)\"\"\"\u001b[0m\u001b[1;33m\u001b[0m\u001b[1;33m\u001b[0m\u001b[0m\n\u001b[1;32m--> 444\u001b[1;33m         \u001b[1;32mreturn\u001b[0m \u001b[0mself\u001b[0m\u001b[1;33m.\u001b[0m\u001b[0mimpl\u001b[0m\u001b[1;33m[\u001b[0m\u001b[1;34m'distance'\u001b[0m\u001b[1;33m]\u001b[0m\u001b[1;33m(\u001b[0m\u001b[0mself\u001b[0m\u001b[1;33m,\u001b[0m \u001b[0mother\u001b[0m\u001b[1;33m)\u001b[0m\u001b[1;33m\u001b[0m\u001b[1;33m\u001b[0m\u001b[0m\n\u001b[0m\u001b[0;32m    445\u001b[0m \u001b[1;33m\u001b[0m\u001b[0m\n\u001b[0;32m    446\u001b[0m     \u001b[1;32mdef\u001b[0m \u001b[0mhausdorff_distance\u001b[0m\u001b[1;33m(\u001b[0m\u001b[0mself\u001b[0m\u001b[1;33m,\u001b[0m \u001b[0mother\u001b[0m\u001b[1;33m)\u001b[0m\u001b[1;33m:\u001b[0m\u001b[1;33m\u001b[0m\u001b[1;33m\u001b[0m\u001b[0m\n",
      "\u001b[1;32mD:\\Miniconda\\envs\\sds20\\lib\\site-packages\\shapely\\topology.py\u001b[0m in \u001b[0;36m__call__\u001b[1;34m(self, this, other)\u001b[0m\n\u001b[0;32m     46\u001b[0m         \u001b[0mself\u001b[0m\u001b[1;33m.\u001b[0m\u001b[0m_validate\u001b[0m\u001b[1;33m(\u001b[0m\u001b[0mother\u001b[0m\u001b[1;33m,\u001b[0m \u001b[0mstop_prepared\u001b[0m\u001b[1;33m=\u001b[0m\u001b[1;32mTrue\u001b[0m\u001b[1;33m)\u001b[0m\u001b[1;33m\u001b[0m\u001b[1;33m\u001b[0m\u001b[0m\n\u001b[0;32m     47\u001b[0m         \u001b[0md\u001b[0m \u001b[1;33m=\u001b[0m \u001b[0mc_double\u001b[0m\u001b[1;33m(\u001b[0m\u001b[1;33m)\u001b[0m\u001b[1;33m\u001b[0m\u001b[1;33m\u001b[0m\u001b[0m\n\u001b[1;32m---> 48\u001b[1;33m         \u001b[0mretval\u001b[0m \u001b[1;33m=\u001b[0m \u001b[0mself\u001b[0m\u001b[1;33m.\u001b[0m\u001b[0mfn\u001b[0m\u001b[1;33m(\u001b[0m\u001b[0mthis\u001b[0m\u001b[1;33m.\u001b[0m\u001b[0m_geom\u001b[0m\u001b[1;33m,\u001b[0m \u001b[0mother\u001b[0m\u001b[1;33m.\u001b[0m\u001b[0m_geom\u001b[0m\u001b[1;33m,\u001b[0m \u001b[0mbyref\u001b[0m\u001b[1;33m(\u001b[0m\u001b[0md\u001b[0m\u001b[1;33m)\u001b[0m\u001b[1;33m)\u001b[0m\u001b[1;33m\u001b[0m\u001b[1;33m\u001b[0m\u001b[0m\n\u001b[0m\u001b[0;32m     49\u001b[0m         \u001b[1;32mreturn\u001b[0m \u001b[0md\u001b[0m\u001b[1;33m.\u001b[0m\u001b[0mvalue\u001b[0m\u001b[1;33m\u001b[0m\u001b[1;33m\u001b[0m\u001b[0m\n\u001b[0;32m     50\u001b[0m \u001b[1;33m\u001b[0m\u001b[0m\n",
      "\u001b[1;31mKeyboardInterrupt\u001b[0m: "
     ]
    }
   ],
   "source": [
    "sequences = get_sequences_by_distancegreedy(gdf_zoningm, gdf_poi)"
   ]
  },
  {
   "cell_type": "code",
   "execution_count": 257,
   "metadata": {},
   "outputs": [
    {
     "data": {
      "text/plain": [
       "{}"
      ]
     },
     "execution_count": 257,
     "metadata": {},
     "output_type": "execute_result"
    }
   ],
   "source": [
    "sequences"
   ]
  },
  {
   "cell_type": "code",
   "execution_count": null,
   "metadata": {},
   "outputs": [],
   "source": [
    "gdf_tz[\"geometry\"] =  gdf_tz[\"geometry\"].apply(lambda x:Polygon(x.buffer(10).exterior))\n",
    "df_join = sjoin(gdf_poi, gdf_tz, how=\"inner\",op=\"within\")"
   ]
  },
  {
   "cell_type": "code",
   "execution_count": null,
   "metadata": {},
   "outputs": [],
   "source": [
    "np.save(f\"result/Sequences_greedy_{VERSION}.npy\", sequences)"
   ]
  },
  {
   "cell_type": "code",
   "execution_count": 168,
   "metadata": {},
   "outputs": [
    {
     "data": {
      "text/plain": [
       "{}"
      ]
     },
     "execution_count": 168,
     "metadata": {},
     "output_type": "execute_result"
    }
   ],
   "source": [
    "sequences"
   ]
  },
  {
   "cell_type": "code",
   "execution_count": 161,
   "metadata": {},
   "outputs": [
    {
     "data": {
      "text/plain": [
       "(0, 2732)"
      ]
     },
     "execution_count": 161,
     "metadata": {},
     "output_type": "execute_result"
    }
   ],
   "source": [
    "len(sequences.keys()),len(gdf_zoningm)"
   ]
  },
  {
   "cell_type": "markdown",
   "metadata": {},
   "source": [
    "##"
   ]
  },
  {
   "cell_type": "code",
   "execution_count": null,
   "metadata": {},
   "outputs": [],
   "source": []
  }
 ],
 "metadata": {
  "kernelspec": {
   "display_name": "Python 3",
   "language": "python",
   "name": "python3"
  },
  "language_info": {
   "codemirror_mode": {
    "name": "ipython",
    "version": 3
   },
   "file_extension": ".py",
   "mimetype": "text/x-python",
   "name": "python",
   "nbconvert_exporter": "python",
   "pygments_lexer": "ipython3",
   "version": "3.8.5"
  },
  "latex_envs": {
   "LaTeX_envs_menu_present": true,
   "autoclose": false,
   "autocomplete": true,
   "bibliofile": "biblio.bib",
   "cite_by": "apalike",
   "current_citInitial": 1,
   "eqLabelWithNumbers": true,
   "eqNumInitial": 1,
   "hotkeys": {
    "equation": "Ctrl-E",
    "itemize": "Ctrl-I"
   },
   "labels_anchors": false,
   "latex_user_defs": false,
   "report_style_numbering": false,
   "user_envs_cfg": false
  },
  "toc": {
   "base_numbering": 1,
   "nav_menu": {},
   "number_sections": true,
   "sideBar": true,
   "skip_h1_title": false,
   "title_cell": "Table of Contents",
   "title_sidebar": "Contents",
   "toc_cell": false,
   "toc_position": {},
   "toc_section_display": true,
   "toc_window_display": false
  }
 },
 "nbformat": 4,
 "nbformat_minor": 4
}
